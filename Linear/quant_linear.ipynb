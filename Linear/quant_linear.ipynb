{
 "cells": [
  {
   "cell_type": "code",
   "execution_count": null,
   "metadata": {},
   "outputs": [],
   "source": [
    "# 导入所需的库\n",
    "import numpy as np\n",
    "import pandas as pd\n",
    "from sklearn.model_selection import train_test_split\n",
    "from sklearn.linear_model import LinearRegression\n",
    "from sklearn.metrics import mean_squared_error, r2_score\n",
    "import matplotlib.pyplot as plt\n",
    "from sklearn.decomposition import PCA\n",
    "from sklearn.preprocessing import StandardScaler"
   ]
  },
  {
   "cell_type": "code",
   "execution_count": null,
   "metadata": {},
   "outputs": [],
   "source": [
    "# 创建数据集\n",
    "# 先测试18年的数据\n",
    "df_factor = pd.read_csv('../factor/1000/2018_1000.csv', nrows=100000)\n",
    "df_label = pd.read_csv('../factor/label.csv', nrows=100000)\n",
    "print(df_factor.isnull().sum().sum())\n",
    "print(df_label.isnull().sum().sum())"
   ]
  },
  {
   "cell_type": "code",
   "execution_count": null,
   "metadata": {},
   "outputs": [],
   "source": [
    "# 根据time列的值拆分DataFrame\n",
    "df_label_1000 = df_label[df_label['time'] == '10:00:00']\n",
    "df_label_1000.head()"
   ]
  },
  {
   "cell_type": "code",
   "execution_count": null,
   "metadata": {},
   "outputs": [],
   "source": [
    "# 根据time列的值拆分DataFrame\n",
    "df_label_1330 = df_label[df_label['time'] == '13:30:00']\n",
    "df_label_1330.head()"
   ]
  },
  {
   "cell_type": "code",
   "execution_count": null,
   "metadata": {},
   "outputs": [],
   "source": [
    "df_factor.head()"
   ]
  },
  {
   "cell_type": "code",
   "execution_count": null,
   "metadata": {},
   "outputs": [],
   "source": [
    "# 假设df是包含所有因子的DataFrame，这里先标准化数据\n",
    "columns_to_scale = df_factor.columns[2:]\n",
    "columns_to_scale"
   ]
  },
  {
   "cell_type": "code",
   "execution_count": null,
   "metadata": {},
   "outputs": [],
   "source": [
    "# # 仅对选定的列进行标准化\n",
    "# scaler = StandardScaler()\n",
    "# df_factor_scaled = scaler.fit_transform(df_factor[columns_to_scale])\n",
    "# # 将标准化后的数据转换回DataFrame格式，并赋予正确的列名\n",
    "# df_factor_scaled = pd.DataFrame(df_factor_scaled, columns=columns_to_scale)\n",
    "# # 将未标准化的列与标准化后的数据合并\n",
    "# df_factor_final = pd.concat([df_factor.iloc[:, :2].reset_index(drop=True), df_factor_scaled.reset_index(drop=True)], axis=1)\n",
    "\n",
    "df_factor_final=df_factor\n",
    "# print(df_factor.head())\n",
    "# print(df_factor_scaled.head())\n",
    "df_factor_final.head()"
   ]
  },
  {
   "cell_type": "code",
   "execution_count": null,
   "metadata": {},
   "outputs": [],
   "source": [
    "# # 应用PCA\n",
    "# pca = PCA(n_components=0.95)  # 选择足够的主成分以解释95%的方差\n",
    "# principal_components = pca.fit_transform(df_factor_scaled)\n",
    "\n",
    "# # 将主成分转换为DataFrame\n",
    "# df_pca = pd.DataFrame(data=principal_components, columns=[f'PC{i+1}' for i in range(principal_components.shape[1])])\n",
    "\n",
    "# print(\"主成分解释的方差比例：\", pca.explained_variance_ratio_)"
   ]
  },
  {
   "cell_type": "code",
   "execution_count": null,
   "metadata": {},
   "outputs": [],
   "source": [
    "# 示例：将标签数据根据股票代码和日期重新排序\n",
    "df_label_1000_sorted = df_label_1000.sort_values(by=['date', 'code'])\n",
    "(df_label_1000_sorted.head())"
   ]
  },
  {
   "cell_type": "code",
   "execution_count": null,
   "metadata": {},
   "outputs": [],
   "source": [
    "# 示例：将标签数据根据股票代码和日期重新排序\n",
    "df_label_1330_sorted = df_label_1330.sort_values(by=['date', 'code'])\n",
    "df_label_1330_sorted.head()"
   ]
  },
  {
   "cell_type": "code",
   "execution_count": null,
   "metadata": {},
   "outputs": [],
   "source": [
    "# 将因子数据和标签数据合并，确保对齐\n",
    "df_merged = pd.merge(df_factor_final, df_label_1000_sorted, on=['date', 'code'])\n",
    "df_merged.head(10)"
   ]
  },
  {
   "cell_type": "code",
   "execution_count": null,
   "metadata": {},
   "outputs": [],
   "source": [
    "# 选择因子和标签\n",
    "X = df_merged.drop(['date', 'code', 'time', 'ret_next_close_alpha', 'ret_next_5_close_alpha'], axis=1)\n",
    "y = df_merged['ret_next_close_alpha']\n",
    "print(X.head())\n",
    "print(y.head())\n"
   ]
  },
  {
   "cell_type": "code",
   "execution_count": null,
   "metadata": {},
   "outputs": [],
   "source": [
    "print(X.isnull().sum().sum())\n",
    "print(y.isnull().sum())\n",
    "# 处理缺失值\n",
    "X.fillna(X.mean(), inplace=True)\n",
    "X_train, X_test, y_train, y_test = train_test_split(X, y, test_size=0.3, random_state=42)"
   ]
  },
  {
   "cell_type": "code",
   "execution_count": null,
   "metadata": {},
   "outputs": [],
   "source": [
    "# 实例化模型并训练\n",
    "model = LinearRegression()\n",
    "model.fit(X_train, y_train)\n",
    "\n",
    "# 进行预测\n",
    "y_pred = model.predict(X_test)\n",
    "\n",
    "# 评估模型\n",
    "mse = mean_squared_error(y_test, y_pred)\n",
    "r2 = r2_score(y_test, y_pred)\n",
    "\n",
    "# 输出每个自变量的系数，保留三位小数\n",
    "coefficients = \", \".join([f\"{coef:.3f}\" for coef in model.coef_])\n",
    "print(f\"Coefficients : {coefficients}\")\n",
    "# 输出截距（误差项），保留三位小数\n",
    "print(f\"Intercept: {model.intercept_:.3f}\")\n",
    "print(f'Mean Squared Error: {mse:.3f}')\n",
    "print(f'R^2 Score: {r2:.3f}')"
   ]
  },
  {
   "cell_type": "code",
   "execution_count": null,
   "metadata": {},
   "outputs": [],
   "source": [
    "# 可视化实际值与预测值\n",
    "plt.scatter(y_test, y_pred, s=10, label='train data')\n",
    "plt.xlabel('Actual Value')\n",
    "plt.ylabel('Predicted Value')\n",
    "plt.title('Actual Value vs Predicted Value')\n",
    "plt.show()"
   ]
  }
 ],
 "metadata": {
  "kernelspec": {
   "display_name": "q",
   "language": "python",
   "name": "python3"
  },
  "language_info": {
   "codemirror_mode": {
    "name": "ipython",
    "version": 3
   },
   "file_extension": ".py",
   "mimetype": "text/x-python",
   "name": "python",
   "nbconvert_exporter": "python",
   "pygments_lexer": "ipython3",
   "version": "3.12.1"
  }
 },
 "nbformat": 4,
 "nbformat_minor": 2
}
