{
 "cells": [
  {
   "cell_type": "code",
   "execution_count": 1,
   "metadata": {},
   "outputs": [],
   "source": [
    "import tushare as ts\n",
    "import majorshare as mjs\n",
    "import akshare as ak"
   ]
  },
  {
   "cell_type": "code",
   "execution_count": null,
   "metadata": {},
   "outputs": [],
   "source": [
    "pro = ts.pro_api('20240226141903-a545e108-89a2-4771-acd2-305a6e8c129f')\n",
    "pro._DataApi__http_url = 'http://tsapi.majors.ltd:7000'\n",
    "print(pro._DataApi__token)\n",
    "print(pro._DataApi__http_url)"
   ]
  },
  {
   "cell_type": "code",
   "execution_count": null,
   "metadata": {},
   "outputs": [],
   "source": [
    "#设置majorshare的token\n",
    "mjs.set_token('20240226141903-a545e108-89a2-4771-acd2-305a6e8c129f')\n",
    "#实例化majorshare接口对象,tushare接口为共享带宽接口与tushare数据保持一致\n",
    "mjspro = mjs.pro_api()"
   ]
  },
  {
   "cell_type": "code",
   "execution_count": null,
   "metadata": {},
   "outputs": [],
   "source": [
    "df1 = pro.daily(ts_code='000001.SZ', start_date='20180701', end_date='20180718')\n",
    "df1"
   ]
  },
  {
   "cell_type": "code",
   "execution_count": null,
   "metadata": {},
   "outputs": [],
   "source": [
    "#常规接口\n",
    "dfm = mjspro.daily(ts_code='000001.SZ', start_date='20180701', end_date='20180718')\n",
    "dfm"
   ]
  },
  {
   "cell_type": "code",
   "execution_count": null,
   "metadata": {},
   "outputs": [],
   "source": [
    "adf = ak.stock_zh_a_hist(symbol=\"000001\", period=\"daily\", start_date=\"20170301\", end_date='20170322', adjust=\"\")\n",
    "adf"
   ]
  }
 ],
 "metadata": {
  "kernelspec": {
   "display_name": "q",
   "language": "python",
   "name": "python3"
  },
  "language_info": {
   "codemirror_mode": {
    "name": "ipython",
    "version": 3
   },
   "file_extension": ".py",
   "mimetype": "text/x-python",
   "name": "python",
   "nbconvert_exporter": "python",
   "pygments_lexer": "ipython3",
   "version": "3.12.1"
  }
 },
 "nbformat": 4,
 "nbformat_minor": 2
}
