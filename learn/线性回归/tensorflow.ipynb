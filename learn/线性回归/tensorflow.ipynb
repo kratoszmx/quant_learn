{
 "cells": [
  {
   "cell_type": "code",
   "execution_count": 1,
   "metadata": {},
   "outputs": [],
   "source": [
    "# TensorFlow 2.0 + Linear Regression"
   ]
  },
  {
   "cell_type": "code",
   "execution_count": 2,
   "metadata": {},
   "outputs": [
    {
     "name": "stderr",
     "output_type": "stream",
     "text": [
      "2024-02-28 11:03:32.843657: I tensorflow/core/util/port.cc:113] oneDNN custom operations are on. You may see slightly different numerical results due to floating-point round-off errors from different computation orders. To turn them off, set the environment variable `TF_ENABLE_ONEDNN_OPTS=0`.\n",
      "2024-02-28 11:03:32.846440: I external/local_tsl/tsl/cuda/cudart_stub.cc:32] Could not find cuda drivers on your machine, GPU will not be used.\n",
      "2024-02-28 11:03:32.889743: I external/local_tsl/tsl/cuda/cudart_stub.cc:32] Could not find cuda drivers on your machine, GPU will not be used.\n",
      "2024-02-28 11:03:32.955504: I tensorflow/core/platform/cpu_feature_guard.cc:210] This TensorFlow binary is optimized to use available CPU instructions in performance-critical operations.\n",
      "To enable the following instructions: AVX2 AVX512F AVX512_VNNI FMA, in other operations, rebuild TensorFlow with the appropriate compiler flags.\n",
      "2024-02-28 11:03:33.834610: W tensorflow/compiler/tf2tensorrt/utils/py_utils.cc:38] TF-TRT Warning: Could not find TensorRT\n"
     ]
    }
   ],
   "source": [
    "import tensorflow as tf\n",
    "import numpy as np"
   ]
  },
  {
   "cell_type": "code",
   "execution_count": 3,
   "metadata": {},
   "outputs": [],
   "source": [
    "def model(x):\n",
    "    return a*x+b"
   ]
  },
  {
   "cell_type": "code",
   "execution_count": 4,
   "metadata": {},
   "outputs": [],
   "source": [
    "def loss(predicted_y, desired_y):\n",
    "    return tf.reduce_sum(tf.square(predicted_y - desired_y))"
   ]
  },
  {
   "cell_type": "code",
   "execution_count": 5,
   "metadata": {},
   "outputs": [],
   "source": [
    "x = np.float32(np.random.rand(100,1))\n",
    "\n",
    "# y=a*x+b\n",
    "y = np.dot(x,0.8) + 0.2\n",
    "\n",
    "a = tf.Variable(np.float32())\n",
    "b = tf.Variable(np.float32())"
   ]
  },
  {
   "cell_type": "code",
   "execution_count": 6,
   "metadata": {},
   "outputs": [
    {
     "name": "stdout",
     "output_type": "stream",
     "text": [
      "Step:0, loss:38.61059, weight:0.10000, bias:0.10000 \n",
      "Step:10, loss:7.66905, weight:0.62297, bias:0.52850 \n",
      "Step:20, loss:2.45017, weight:0.48713, bias:0.21624 \n",
      "Step:30, loss:0.55656, weight:0.73631, bias:0.31316 \n",
      "Step:40, loss:0.10167, weight:0.73311, bias:0.19433 \n",
      "Step:50, loss:0.02258, weight:0.81675, bias:0.21421 \n",
      "Step:60, loss:0.01237, weight:0.80759, bias:0.18105 \n",
      "Step:70, loss:0.00868, weight:0.82288, bias:0.19844 \n",
      "Step:80, loss:0.00485, weight:0.80416, bias:0.19066 \n",
      "Step:90, loss:0.00207, weight:0.80479, bias:0.20167 \n"
     ]
    }
   ],
   "source": [
    "optimizer = tf.optimizers.Adam(0.1)\n",
    "\n",
    "for step in range(0, 100):\n",
    "    with tf.GradientTape() as t:\n",
    "        outputs = model(x)\n",
    "        current_loss = loss(outputs, y)\n",
    "        grads = t.gradient(current_loss, [a, b])\n",
    "        optimizer.apply_gradients(zip(grads,[a, b]))\n",
    "    if step % 10 == 0:\n",
    "        print(\"Step:%d, loss:%2.5f, weight:%2.5f, bias:%2.5f \"\n",
    "              %(step, current_loss.numpy(), a.numpy(), b.numpy()))"
   ]
  }
 ],
 "metadata": {
  "kernelspec": {
   "display_name": "q",
   "language": "python",
   "name": "python3"
  },
  "language_info": {
   "codemirror_mode": {
    "name": "ipython",
    "version": 3
   },
   "file_extension": ".py",
   "mimetype": "text/x-python",
   "name": "python",
   "nbconvert_exporter": "python",
   "pygments_lexer": "ipython3",
   "version": "3.12.1"
  }
 },
 "nbformat": 4,
 "nbformat_minor": 2
}
