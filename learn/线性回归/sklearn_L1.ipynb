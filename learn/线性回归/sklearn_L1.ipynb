{
 "cells": [
  {
   "cell_type": "code",
   "execution_count": 1,
   "metadata": {},
   "outputs": [],
   "source": [
    "import numpy as np\n",
    "import pandas as pd\n",
    "from sklearn.datasets import make_regression\n",
    "from sklearn.linear_model import Ridge\n",
    "from sklearn.model_selection import train_test_split\n",
    "from sklearn.metrics import mean_squared_error"
   ]
  },
  {
   "cell_type": "code",
   "execution_count": 2,
   "metadata": {},
   "outputs": [],
   "source": [
    "# 创建数据集\n",
    "X, y = make_regression(n_samples=100, n_features=2, noise=0.1, random_state=42)\n",
    "\n",
    "# 拆分数据集\n",
    "X_train, X_test, y_train, y_test = train_test_split(X, y, test_size=0.2, random_state=42)"
   ]
  },
  {
   "cell_type": "code",
   "execution_count": 6,
   "metadata": {},
   "outputs": [
    {
     "name": "stdout",
     "output_type": "stream",
     "text": [
      "Coefficients: 87.709, 74.064, Intercept: -0.001, Alpha: 0.01, MSE: 0.015753066403847903 ,R^2: 0.9999983187620721\n",
      "Coefficients: 87.585, 73.984, Intercept: -0.018, Alpha: 0.1, MSE: 0.03489028460133846 ,R^2: 0.9999962763522807\n",
      "Coefficients: 86.364, 73.191, Intercept: -0.181, Alpha: 1, MSE: 1.8170341126687597 ,R^2: 0.9998060779667834\n",
      "Coefficients: 75.809, 66.093, Intercept: -1.587, Alpha: 10, MSE: 141.73980632370032 ,R^2: 0.9848728919075487\n",
      "Coefficients: 34.247, 33.376, Intercept: -7.094, Alpha: 100, MSE: 3233.8911518545156 ,R^2: 0.6548646263731672\n"
     ]
    }
   ],
   "source": [
    "# 使用Ridge回归\n",
    "alpha_values = [0.01, 0.1, 1, 10, 100]  # 不同的alpha值\n",
    "for alpha in alpha_values:\n",
    "    model = Ridge(alpha=alpha)\n",
    "    model.fit(X_train, y_train)\n",
    "    y_pred = model.predict(X_test)\n",
    "    coefficients = \", \".join([f\"{coef:.3f}\" for coef in model.coef_])\n",
    "    mse = mean_squared_error(y_test, y_pred)\n",
    "    R2 = model.score(X_test, y_test)\n",
    "    print(f\"Coefficients: {coefficients}, Intercept: {model.intercept_:.3f}, Alpha: {alpha}, MSE: {mse} ,R^2: {R2}\")"
   ]
  }
 ],
 "metadata": {
  "kernelspec": {
   "display_name": "q",
   "language": "python",
   "name": "python3"
  },
  "language_info": {
   "codemirror_mode": {
    "name": "ipython",
    "version": 3
   },
   "file_extension": ".py",
   "mimetype": "text/x-python",
   "name": "python",
   "nbconvert_exporter": "python",
   "pygments_lexer": "ipython3",
   "version": "3.12.1"
  }
 },
 "nbformat": 4,
 "nbformat_minor": 2
}
