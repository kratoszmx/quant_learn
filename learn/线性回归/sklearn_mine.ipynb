{
 "cells": [
  {
   "cell_type": "code",
   "execution_count": 34,
   "metadata": {},
   "outputs": [],
   "source": [
    "# 导入所需的库\n",
    "import numpy as np\n",
    "import pandas as pd\n",
    "from sklearn.model_selection import train_test_split\n",
    "from sklearn.linear_model import LinearRegression\n",
    "from sklearn.metrics import mean_squared_error, r2_score\n",
    "import matplotlib.pyplot as plt"
   ]
  },
  {
   "cell_type": "code",
   "execution_count": 35,
   "metadata": {},
   "outputs": [],
   "source": [
    "# 创建数据集\n",
    "np.random.seed(0)\n",
    "area = np.random.rand(1000) * 1000  # 面积\n",
    "rooms = np.random.randint(1, 6, size=1000)  # 房间数量\n",
    "age = np.random.randint(1, 30, size=1000)  # 楼龄"
   ]
  },
  {
   "cell_type": "code",
   "execution_count": 36,
   "metadata": {},
   "outputs": [],
   "source": [
    "# 假设房价与面积、房间数量和楼龄的关系为：price = 2000 + 3*area + 5000*rooms - 200*age + random_noise\n",
    "random_noise = np.random.randn(1000) * 5000\n",
    "price = 2000 + 3*area + 5000*rooms - 200*age + random_noise"
   ]
  },
  {
   "cell_type": "code",
   "execution_count": 37,
   "metadata": {},
   "outputs": [
    {
     "data": {
      "text/html": [
       "<div>\n",
       "<style scoped>\n",
       "    .dataframe tbody tr th:only-of-type {\n",
       "        vertical-align: middle;\n",
       "    }\n",
       "\n",
       "    .dataframe tbody tr th {\n",
       "        vertical-align: top;\n",
       "    }\n",
       "\n",
       "    .dataframe thead th {\n",
       "        text-align: right;\n",
       "    }\n",
       "</style>\n",
       "<table border=\"1\" class=\"dataframe\">\n",
       "  <thead>\n",
       "    <tr style=\"text-align: right;\">\n",
       "      <th></th>\n",
       "      <th>Area</th>\n",
       "      <th>Rooms</th>\n",
       "      <th>Age</th>\n",
       "      <th>Price</th>\n",
       "    </tr>\n",
       "  </thead>\n",
       "  <tbody>\n",
       "    <tr>\n",
       "      <th>0</th>\n",
       "      <td>548.813504</td>\n",
       "      <td>2</td>\n",
       "      <td>10</td>\n",
       "      <td>7834.632828</td>\n",
       "    </tr>\n",
       "    <tr>\n",
       "      <th>1</th>\n",
       "      <td>715.189366</td>\n",
       "      <td>5</td>\n",
       "      <td>28</td>\n",
       "      <td>16310.866425</td>\n",
       "    </tr>\n",
       "    <tr>\n",
       "      <th>2</th>\n",
       "      <td>602.763376</td>\n",
       "      <td>3</td>\n",
       "      <td>21</td>\n",
       "      <td>27711.159358</td>\n",
       "    </tr>\n",
       "    <tr>\n",
       "      <th>3</th>\n",
       "      <td>544.883183</td>\n",
       "      <td>5</td>\n",
       "      <td>28</td>\n",
       "      <td>19297.283659</td>\n",
       "    </tr>\n",
       "    <tr>\n",
       "      <th>4</th>\n",
       "      <td>423.654799</td>\n",
       "      <td>5</td>\n",
       "      <td>3</td>\n",
       "      <td>21169.230237</td>\n",
       "    </tr>\n",
       "    <tr>\n",
       "      <th>5</th>\n",
       "      <td>645.894113</td>\n",
       "      <td>5</td>\n",
       "      <td>2</td>\n",
       "      <td>24518.430319</td>\n",
       "    </tr>\n",
       "    <tr>\n",
       "      <th>6</th>\n",
       "      <td>437.587211</td>\n",
       "      <td>3</td>\n",
       "      <td>7</td>\n",
       "      <td>13041.286231</td>\n",
       "    </tr>\n",
       "    <tr>\n",
       "      <th>7</th>\n",
       "      <td>891.773001</td>\n",
       "      <td>3</td>\n",
       "      <td>15</td>\n",
       "      <td>15328.370110</td>\n",
       "    </tr>\n",
       "    <tr>\n",
       "      <th>8</th>\n",
       "      <td>963.662761</td>\n",
       "      <td>3</td>\n",
       "      <td>17</td>\n",
       "      <td>20617.849442</td>\n",
       "    </tr>\n",
       "    <tr>\n",
       "      <th>9</th>\n",
       "      <td>383.441519</td>\n",
       "      <td>4</td>\n",
       "      <td>19</td>\n",
       "      <td>17858.708711</td>\n",
       "    </tr>\n",
       "  </tbody>\n",
       "</table>\n",
       "</div>"
      ],
      "text/plain": [
       "         Area  Rooms  Age         Price\n",
       "0  548.813504      2   10   7834.632828\n",
       "1  715.189366      5   28  16310.866425\n",
       "2  602.763376      3   21  27711.159358\n",
       "3  544.883183      5   28  19297.283659\n",
       "4  423.654799      5    3  21169.230237\n",
       "5  645.894113      5    2  24518.430319\n",
       "6  437.587211      3    7  13041.286231\n",
       "7  891.773001      3   15  15328.370110\n",
       "8  963.662761      3   17  20617.849442\n",
       "9  383.441519      4   19  17858.708711"
      ]
     },
     "execution_count": 37,
     "metadata": {},
     "output_type": "execute_result"
    }
   ],
   "source": [
    "# 构造DataFrame\n",
    "df = pd.DataFrame({\n",
    "    'Area': area,\n",
    "    'Rooms': rooms,\n",
    "    'Age': age,\n",
    "    'Price': price\n",
    "})\n",
    "\n",
    "# 查看前五行数据\n",
    "# print(df.head())\n",
    "df.head(10)"
   ]
  },
  {
   "cell_type": "code",
   "execution_count": 38,
   "metadata": {},
   "outputs": [],
   "source": [
    "# 划分数据集\n",
    "X = df[['Area', 'Rooms', 'Age']]\n",
    "y = df['Price']\n",
    "\n",
    "X_train, X_test, y_train, y_test = train_test_split(X, y, test_size=0.2, random_state=42)"
   ]
  },
  {
   "cell_type": "code",
   "execution_count": 39,
   "metadata": {},
   "outputs": [
    {
     "name": "stdout",
     "output_type": "stream",
     "text": [
      "Coefficients (for Area, Rooms, Age): 2.453, 4789.352, -165.614\n",
      "Intercept: 2161.903\n",
      "Mean Squared Error: 19855450.735\n",
      "R^2 Score: 0.712\n"
     ]
    }
   ],
   "source": [
    "# 实例化模型并训练\n",
    "model = LinearRegression()\n",
    "model.fit(X_train, y_train)\n",
    "\n",
    "# 进行预测\n",
    "y_pred = model.predict(X_test)\n",
    "\n",
    "# 评估模型\n",
    "mse = mean_squared_error(y_test, y_pred)\n",
    "r2 = r2_score(y_test, y_pred)\n",
    "\n",
    "# 输出每个自变量的系数，保留三位小数\n",
    "coefficients = \", \".join([f\"{coef:.3f}\" for coef in model.coef_])\n",
    "print(f\"Coefficients (for Area, Rooms, Age): {coefficients}\")\n",
    "# 输出截距（误差项），保留三位小数\n",
    "print(f\"Intercept: {model.intercept_:.3f}\")\n",
    "print(f'Mean Squared Error: {mse:.3f}')\n",
    "print(f'R^2 Score: {r2:.3f}')"
   ]
  },
  {
   "cell_type": "code",
   "execution_count": 40,
   "metadata": {},
   "outputs": [
    {
     "data": {
      "image/png": "[encoded data removed]",
      "text/plain": [
       "<Figure size 640x480 with 1 Axes>"
      ]
     },
     "metadata": {},
     "output_type": "display_data"
    }
   ],
   "source": [
    "# 可视化实际值与预测值\n",
    "plt.scatter(y_test, y_pred, s=10, label='train data')\n",
    "plt.xlabel('Actual Prices')\n",
    "plt.ylabel('Predicted Prices')\n",
    "plt.title('Actual Prices vs Predicted Prices')\n",
    "plt.show()"
   ]
  }
 ],
 "metadata": {
  "kernelspec": {
   "display_name": "q",
   "language": "python",
   "name": "python3"
  },
  "language_info": {
   "codemirror_mode": {
    "name": "ipython",
    "version": 3
   },
   "file_extension": ".py",
   "mimetype": "text/x-python",
   "name": "python",
   "nbconvert_exporter": "python",
   "pygments_lexer": "ipython3",
   "version": "3.12.1"
  }
 },
 "nbformat": 4,
 "nbformat_minor": 2
}
