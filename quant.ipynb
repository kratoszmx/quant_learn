{
 "cells": [
  {
   "cell_type": "code",
   "execution_count": null,
   "metadata": {},
   "outputs": [],
   "source": [
    "import pandas as pd\n",
    "from sklearn.model_selection import train_test_split\n",
    "from sklearn.preprocessing import StandardScaler\n",
    "from sklearn.linear_model import LinearRegression\n",
    "from sklearn.ensemble import RandomForestRegressor\n",
    "from sklearn.svm import SVR\n",
    "from sklearn.metrics import mean_squared_error\n",
    "import matplotlib.pyplot as plt"
   ]
  },
  {
   "cell_type": "code",
   "execution_count": null,
   "metadata": {},
   "outputs": [],
   "source": [
    "# 先测试18年的数据\n",
    "df_factor = pd.read_csv('factor/1000/2018_1000.csv', nrows=200000)\n",
    "df_label = pd.read_csv('factor/label.csv', nrows=200000)\n",
    "print(df_factor.isnull().sum().sum())\n",
    "print(df_label.isnull().sum().sum())"
   ]
  },
  {
   "cell_type": "code",
   "execution_count": null,
   "metadata": {},
   "outputs": [],
   "source": [
    "# 数据清洗\n",
    "# 假设'factor001'到'factor005'是我们选择的因子\n",
    "selected_factors = ['factor001', 'factor002', 'factor003', 'factor004', 'factor005']\n",
    "X = df_factor[selected_factors].fillna(0)  # 用0填充NaN值\n",
    "y = df_label['ret_next_close_alpha'].fillna(0)  # 选择一个标签进行预测，并用0填充NaN值"
   ]
  },
  {
   "cell_type": "code",
   "execution_count": null,
   "metadata": {},
   "outputs": [],
   "source": [
    "# 数据标准化\n",
    "scaler = StandardScaler()\n",
    "X_scaled = scaler.fit_transform(X)\n",
    "print(\"X处理后的特征数据的前几行:\")\n",
    "print(X.head())\n",
    "print(\"Y处理后的标签数据的前几行:\")\n",
    "print(y.head())\n",
    "print(\"标准化后的特征数据的前几行:\")\n",
    "print(X_scaled[:5, :])"
   ]
  },
  {
   "cell_type": "code",
   "execution_count": null,
   "metadata": {},
   "outputs": [],
   "source": [
    "# 划分训练集和测试集\n",
    "X_train, X_test, y_train, y_test = train_test_split(X, y, test_size=0.2, random_state=42)"
   ]
  },
  {
   "cell_type": "code",
   "execution_count": null,
   "metadata": {},
   "outputs": [],
   "source": [
    "# 模型训练\n",
    "model = LinearRegression()\n",
    "model.fit(X_train, y_train)\n",
    "\n",
    "# 模型评估\n",
    "score = model.score(X_test, y_test)\n",
    "print(f'Model R^2 score: {score}')"
   ]
  },
  {
   "cell_type": "code",
   "execution_count": null,
   "metadata": {},
   "outputs": [],
   "source": [
    "predictions = model.predict(X_test)\n",
    "# 计算预测的均方误差\n",
    "mse = mean_squared_error(y_test, predictions)\n",
    "print(f'Model MSE: {mse}')\n",
    "\n",
    "# 打印实际值与预测值的对比\n",
    "print(\"实际值与预测值的对比:\")\n",
    "comparison = pd.DataFrame({'Actual': y_test, 'Predicted': predictions})\n",
    "print(comparison.head())"
   ]
  },
  {
   "cell_type": "code",
   "execution_count": null,
   "metadata": {},
   "outputs": [],
   "source": [
    "# 选取X_test的前5个样本及其对应的预测值和实际值\n",
    "print(\"X_test的前5个样本:\")\n",
    "print(X_test[:5])\n",
    "print(\"\\n对应的模型预测值:\")\n",
    "print(predictions[:5])\n",
    "print(\"\\n对应的实际值:\")\n",
    "print(y_test[:5].values)"
   ]
  },
  {
   "cell_type": "code",
   "execution_count": null,
   "metadata": {},
   "outputs": [],
   "source": [
    "# 假设y_test是测试集中的实际值，predictions是模型的预测值\n",
    "plt.scatter(y_test, predictions, s=5)\n",
    "plt.xlabel('Actual Values')\n",
    "plt.ylabel('Predicted Values')\n",
    "plt.title('Actual vs Predicted')\n",
    "plt.show()"
   ]
  },
  {
   "cell_type": "code",
   "execution_count": null,
   "metadata": {},
   "outputs": [],
   "source": [
    "# 初始化随机森林回归器\n",
    "rf_model = RandomForestRegressor(n_estimators=100, random_state=42)  # 使用100棵树\n",
    "\n",
    "# 训练模型\n",
    "rf_model.fit(X_train, y_train)\n",
    "\n",
    "# 使用模型进行预测\n",
    "rf_predictions = rf_model.predict(X_test)\n",
    "\n",
    "# 评估模型\n",
    "rf_mse = mean_squared_error(y_test, rf_predictions)\n",
    "rf_score = rf_model.score(X_test, y_test)  # R^2 score\n",
    "\n",
    "print(f'Random Forest R^2 score: {rf_score}')\n",
    "print(f'Random Forest MSE: {rf_mse}')\n",
    "\n",
    "# 对比实际值和预测值\n",
    "rf_comparison = pd.DataFrame({'Actual': y_test, 'RF Predicted': rf_predictions})\n",
    "print(rf_comparison.head())"
   ]
  },
  {
   "cell_type": "code",
   "execution_count": null,
   "metadata": {},
   "outputs": [],
   "source": [
    "# 初始化SVR\n",
    "svr_model = SVR(kernel='rbf', C=1.0, epsilon=0.2)\n",
    "\n",
    "# 训练模型\n",
    "svr_model.fit(X_train, y_train)\n",
    "\n",
    "# 使用模型进行预测\n",
    "svr_predictions = svr_model.predict(X_test)\n",
    "\n",
    "# 评估模型\n",
    "svr_mse = mean_squared_error(y_test, svr_predictions)\n",
    "svr_score = svr_model.score(X_test, y_test)  # R^2 score\n",
    "\n",
    "print(f'SVR R^2 score: {svr_score}')\n",
    "print(f'SVR MSE: {svr_mse}')\n",
    "\n",
    "# 对比实际值和预测值\n",
    "svr_comparison = pd.DataFrame({'Actual': y_test, 'SVR Predicted': svr_predictions})\n",
    "print(svr_comparison.head())"
   ]
  }
 ],
 "metadata": {
  "kernelspec": {
   "display_name": "q",
   "language": "python",
   "name": "python3"
  },
  "language_info": {
   "codemirror_mode": {
    "name": "ipython",
    "version": 3
   },
   "file_extension": ".py",
   "mimetype": "text/x-python",
   "name": "python",
   "nbconvert_exporter": "python",
   "pygments_lexer": "ipython3",
   "version": "3.12.1"
  }
 },
 "nbformat": 4,
 "nbformat_minor": 2
}
